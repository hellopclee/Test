{
  "nbformat": 4,
  "nbformat_minor": 0,
  "metadata": {
    "colab": {
      "name": "helloworld.ipynb",
      "provenance": [],
      "authorship_tag": "ABX9TyNJ4R+pbjg7B2cjWjxcypNZ",
      "include_colab_link": true
    },
    "kernelspec": {
      "name": "python3",
      "display_name": "Python 3"
    }
  },
  "cells": [
    {
      "cell_type": "markdown",
      "metadata": {
        "id": "view-in-github",
        "colab_type": "text"
      },
      "source": [
        "<a href=\"https://colab.research.google.com/github/hellopclee/Test/blob/master/helloworld.ipynb\" target=\"_parent\"><img src=\"https://colab.research.google.com/assets/colab-badge.svg\" alt=\"Open In Colab\"/></a>"
      ]
    },
    {
      "cell_type": "markdown",
      "metadata": {
        "id": "GywEQEVGZT2b",
        "colab_type": "text"
      },
      "source": [
        "This is a helloworld ipynb"
      ]
    },
    {
      "cell_type": "code",
      "metadata": {
        "id": "5Y02xHBjZgzq",
        "colab_type": "code",
        "colab": {
          "base_uri": "https://localhost:8080/",
          "height": 35
        },
        "outputId": "86cb63d4-1b6f-460a-d699-2e8ce2493f81"
      },
      "source": [
        "print(\"helloworld!\")"
      ],
      "execution_count": 1,
      "outputs": [
        {
          "output_type": "stream",
          "text": [
            "helloworld!\n"
          ],
          "name": "stdout"
        }
      ]
    }
  ]
}